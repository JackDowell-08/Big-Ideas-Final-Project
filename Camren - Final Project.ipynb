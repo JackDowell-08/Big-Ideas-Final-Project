{
 "cells": [
  {
   "cell_type": "markdown",
   "id": "dd3fe0eb-0c28-4b83-98b1-2ab3a21a69dd",
   "metadata": {},
   "source": [
    "The Metric: My metric is the length of all staircases in a neighborhood. This means how long (diagonally from first step to last step) each staircase is in a neighborhood. I believe this to be a good metric for comfortablity since most people would rather not walk up many flights of stairs."
   ]
  },
  {
   "cell_type": "markdown",
   "id": "2365fa82-e491-448c-9456-d54ab6c5a533",
   "metadata": {},
   "source": [
    "The Data: There is a csv file that has data on a large amount of staircases within most neighborhoods in pittsburgh. Each datapoint has an extremely large amount of columns of data in them, however, so, I will be narrowing them down to just the neighborhood, the length of staircases (the main factor) and the amount of steps (a minor factor). Here is an example of how much data one datapoint has before cutting it down."
   ]
  },
  {
   "cell_type": "code",
   "execution_count": 2,
   "id": "de2956b7-1ee7-4757-9e2a-b10c0569ed83",
   "metadata": {},
   "outputs": [
    {
     "data": {
      "text/html": [
       "<div>\n",
       "<style scoped>\n",
       "    .dataframe tbody tr th:only-of-type {\n",
       "        vertical-align: middle;\n",
       "    }\n",
       "\n",
       "    .dataframe tbody tr th {\n",
       "        vertical-align: top;\n",
       "    }\n",
       "\n",
       "    .dataframe thead th {\n",
       "        text-align: right;\n",
       "    }\n",
       "</style>\n",
       "<table border=\"1\" class=\"dataframe\">\n",
       "  <thead>\n",
       "    <tr style=\"text-align: right;\">\n",
       "      <th></th>\n",
       "      <th>_id</th>\n",
       "      <th>id</th>\n",
       "      <th>name</th>\n",
       "      <th>maintenance_responsibility</th>\n",
       "      <th>installed</th>\n",
       "      <th>material</th>\n",
       "      <th>length</th>\n",
       "      <th>number_of_steps</th>\n",
       "      <th>schools_count</th>\n",
       "      <th>school_score</th>\n",
       "      <th>...</th>\n",
       "      <th>neighborhood</th>\n",
       "      <th>council_district</th>\n",
       "      <th>ward</th>\n",
       "      <th>tract</th>\n",
       "      <th>public_works_division</th>\n",
       "      <th>pli_division</th>\n",
       "      <th>police_zone</th>\n",
       "      <th>fire_zone</th>\n",
       "      <th>latitude</th>\n",
       "      <th>longitude</th>\n",
       "    </tr>\n",
       "  </thead>\n",
       "  <tbody>\n",
       "    <tr>\n",
       "      <th>0</th>\n",
       "      <td>1</td>\n",
       "      <td>326501686</td>\n",
       "      <td>10 Wakefield St</td>\n",
       "      <td>3rd Division</td>\n",
       "      <td>NaN</td>\n",
       "      <td>Concrete</td>\n",
       "      <td>53.0</td>\n",
       "      <td>8.0</td>\n",
       "      <td>0.0</td>\n",
       "      <td>100.0</td>\n",
       "      <td>...</td>\n",
       "      <td>South Oakland</td>\n",
       "      <td>3.0</td>\n",
       "      <td>4</td>\n",
       "      <td>42003040900</td>\n",
       "      <td>3</td>\n",
       "      <td>4</td>\n",
       "      <td>4</td>\n",
       "      <td>2-11</td>\n",
       "      <td>40.430934</td>\n",
       "      <td>-79.957093</td>\n",
       "    </tr>\n",
       "  </tbody>\n",
       "</table>\n",
       "<p>1 rows × 26 columns</p>\n",
       "</div>"
      ],
      "text/plain": [
       "   _id         id             name maintenance_responsibility installed  \\\n",
       "0    1  326501686  10 Wakefield St               3rd Division       NaN   \n",
       "\n",
       "   material  length  number_of_steps  schools_count  school_score  ...  \\\n",
       "0  Concrete    53.0              8.0            0.0         100.0  ...   \n",
       "\n",
       "    neighborhood  council_district  ward        tract  public_works_division  \\\n",
       "0  South Oakland               3.0     4  42003040900                      3   \n",
       "\n",
       "  pli_division police_zone  fire_zone   latitude  longitude  \n",
       "0            4           4       2-11  40.430934 -79.957093  \n",
       "\n",
       "[1 rows x 26 columns]"
      ]
     },
     "execution_count": 2,
     "metadata": {},
     "output_type": "execute_result"
    }
   ],
   "source": [
    "import pandas as pd\n",
    "import matplotlib.pyplot as plt\n",
    "\n",
    "Stairframe = pd.read_csv(\"StairDataset.csv\")\n",
    "Stairframe.iloc[0:1]"
   ]
  },
  {
   "cell_type": "markdown",
   "id": "f65f5545-4761-4030-859d-c5f263e93871",
   "metadata": {},
   "source": [
    "The Major Factor: In this portion I went through the cut down dataset, found the sums of all the stair lengths in each neighborhood, sorted that dataset and found the 5 neighborhoods with the most and least sums. Below is a bargraph showing the least stair length summed neighborhoods, as those are the more relevant ones."
   ]
  },
  {
   "cell_type": "code",
   "execution_count": 3,
   "id": "ed7c7dab-917b-41ee-8500-f41e812101fa",
   "metadata": {},
   "outputs": [
    {
     "name": "stdout",
     "output_type": "stream",
     "text": [
      "These are the top five highest staircase length neighborhoods\n",
      "9898.0: Beechview\n",
      "5881.0: Carrick\n",
      "5865.0: Brookline\n",
      "5409.0: Marshall-Shadeland\n",
      "5408.0: Hazelwood\n",
      "\n",
      "These are the top five lowest staircase length neighborhoods\n",
      "12.0: Mount Oliver Borough\n",
      "14.0: Manchester\n",
      "25.0: Point Breeze North\n",
      "40.0: East Liberty\n",
      "60.0: Shadyside\n",
      "\n"
     ]
    },
    {
     "data": {
      "image/png": "[encoded data removed]",
      "text/plain": [
       "<Figure size 640x480 with 1 Axes>"
      ]
     },
     "metadata": {},
     "output_type": "display_data"
    }
   ],
   "source": [
    "Stairframe = pd.read_csv(\"StairDataset.csv\", usecols=[\"length\", \"number_of_steps\",\"neighborhood\"])\n",
    "lengthdict = {}\n",
    "lengthdict1 = {}\n",
    "for index, row in Stairframe.iterrows():\n",
    "    length = row['length']\n",
    "    name = row['neighborhood']\n",
    "    if name in lengthdict:\n",
    "        lengthdict[name] = lengthdict[name] + length\n",
    "    else:\n",
    "        lengthdict[name] = length\n",
    "otherlengthdict = {}\n",
    "for key, value in lengthdict.items():\n",
    "    if value > 0:\n",
    "        otherlengthdict[value] = key\n",
    "lengthdict = otherlengthdict\n",
    "mykeys = list(lengthdict.keys())\n",
    "mykeys.sort()\n",
    "mykeys.reverse()\n",
    "mykeys1 = [mykeys[0],mykeys[1],mykeys[2],mykeys[3],mykeys[4],mykeys[-1],mykeys[-2],mykeys[-3],mykeys[-4],mykeys[-5]]\n",
    "lengthdict = {i: lengthdict[i] for i in mykeys1}\n",
    "check = False\n",
    "print(\"These are the top five highest staircase length neighborhoods\")\n",
    "for key, value in lengthdict.items():\n",
    "    if key == 5408:\n",
    "        print(f\"{key}: {value}\")\n",
    "        print()\n",
    "        print(\"These are the top five lowest staircase length neighborhoods\")\n",
    "    else:\n",
    "        print(f\"{key}: {value}\")\n",
    "print()\n",
    "y = [12, 14, 25, 40, 60]\n",
    "x = [\"Mt. Oliver B.\", \"Manchester\", \"Point Breeze N.\", \"East Liberty\", \"Shadyside\"]\n",
    "plt.title('Lowest Stair Length Sums for Neighborhoods')\n",
    "plt.bar(x, y, color='darkgoldenrod', width=0.3)\n",
    "plt.show()"
   ]
  },
  {
   "cell_type": "markdown",
   "id": "9b4af1a8-390b-472d-bcf5-df2930c65d01",
   "metadata": {},
   "source": [
    "The Minor Factor: In this portion I went through the cut down dataset, found the sums of all the stair step amounts in each neighborhood, sorted that dataset and found the 5 neighborhoods with the most and least sums. While I am not using this factor directly, I did want to have it present as a sort of sanity check to make sure the results from the other factor make relative sense. (If the least stair length sum neighborhood had 1000 steps in it, that would mean something is wrong with the dataset) Below is a bargraph showing the least step amount summed neighborhoods, as those are the more relevant ones."
   ]
  },
  {
   "cell_type": "code",
   "execution_count": 4,
   "id": "14a5d374-a8b9-4eb8-b5c1-5c159074c148",
   "metadata": {},
   "outputs": [
    {
     "name": "stdout",
     "output_type": "stream",
     "text": [
      "These are the top five highest staircase length neighborhoods\n",
      "1215.0: Fineview\n",
      "1109.0: Polish Hill\n",
      "920.0: Upper Lawrenceville\n",
      "867.0: Stanton Heights\n",
      "804.0: Upper Hill\n",
      "\n",
      "These are the top five lowest staircase step amount summed neighborhoods\n",
      "8.0: Manchester\n",
      "9.0: Mount Oliver Borough\n",
      "16.0: Point Breeze North\n",
      "18.0: East Liberty\n",
      "23.0: Allegheny West\n",
      "\n"
     ]
    },
    {
     "data": {
      "image/png": "[encoded data removed]",
      "text/plain": [
       "<Figure size 640x480 with 1 Axes>"
      ]
     },
     "metadata": {},
     "output_type": "display_data"
    }
   ],
   "source": [
    "Stairframe = pd.read_csv(\"StairDataset.csv\", usecols=[\"length\", \"number_of_steps\",\"neighborhood\"])\n",
    "lengthdict = {}\n",
    "lengthdict1 = {}\n",
    "for index, row in Stairframe.iterrows():\n",
    "    length = row['number_of_steps']\n",
    "    name = row['neighborhood']\n",
    "    if name in lengthdict:\n",
    "        lengthdict[name] = lengthdict[name] + length\n",
    "    else:\n",
    "        lengthdict[name] = length\n",
    "otherlengthdict = {}\n",
    "for key, value in lengthdict.items():\n",
    "    if value > 0:\n",
    "        otherlengthdict[value] = key\n",
    "lengthdict = otherlengthdict\n",
    "mykeys = list(lengthdict.keys())\n",
    "mykeys.sort()\n",
    "mykeys.reverse()\n",
    "mykeys1 = [mykeys[0],mykeys[1],mykeys[2],mykeys[3],mykeys[4],mykeys[-1],mykeys[-2],mykeys[-3],mykeys[-4],mykeys[-5]]\n",
    "lengthdict = {i: lengthdict[i] for i in mykeys1}\n",
    "print(\"These are the top five highest staircase length neighborhoods\")\n",
    "for key, value in lengthdict.items():\n",
    "    if key == 804:\n",
    "        print(f\"{key}: {value}\")\n",
    "        print()\n",
    "        print(\"These are the top five lowest staircase step amount summed neighborhoods\")\n",
    "    else:\n",
    "        print(f\"{key}: {value}\")\n",
    "print()\n",
    "y = [8, 9, 16, 18, 23]\n",
    "x = [\"Manchester\", \"Mt. Oliver B.\", \"Point Breeze N.\", \"East Liberty\", \"Allegheny West\"]\n",
    "plt.title('Lowest Step Sums for Neighborhoods')\n",
    "plt.bar(x, y, color='maroon', width=0.3)\n",
    "plt.show()"
   ]
  },
  {
   "cell_type": "markdown",
   "id": "ad4ddb80-cf96-49b1-9350-7dd01dac961c",
   "metadata": {},
   "source": [
    "Conclusion: Manchester and Mount Oliver Borough are consistently the best neighborhoods in terms of least amount of stairs and length of staircases. I considered them a tie because whether their single staircases are better or worse than the other depends on a lot of factors that aren't in this dataset, such as how steep the staircases are."
   ]
  }
 ],
 "metadata": {
  "kernelspec": {
   "display_name": "Python 3 (ipykernel)",
   "language": "python",
   "name": "python3"
  },
  "language_info": {
   "codemirror_mode": {
    "name": "ipython",
    "version": 3
   },
   "file_extension": ".py",
   "mimetype": "text/x-python",
   "name": "python",
   "nbconvert_exporter": "python",
   "pygments_lexer": "ipython3",
   "version": "3.12.4"
  }
 },
 "nbformat": 4,
 "nbformat_minor": 5
}
