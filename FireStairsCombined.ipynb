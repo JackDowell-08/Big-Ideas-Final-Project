{
 "cells": [
  {
   "cell_type": "code",
   "execution_count": 10,
   "id": "7fe924dc-38f6-40b8-a4f5-b20042414371",
   "metadata": {},
   "outputs": [],
   "source": [
    "import pandas as pd\n",
    "import matplotlib.pyplot as plt"
   ]
  },
  {
   "cell_type": "code",
   "execution_count": 106,
   "id": "70cd0fff-ef86-44e1-88c9-6928c09c1ca4",
   "metadata": {},
   "outputs": [
    {
     "name": "stdout",
     "output_type": "stream",
     "text": [
      "{'Central Oakland': 361.0, 'Bedford Dwellings': 291.0, 'Polish Hill': 1109.0, 'Upper Lawrenceville': 920.0, 'Stanton Heights': 867.0, 'West Oakland': 376.0, 'Upper Hill': 804.0, 'Mount Oliver Borough': 9.0, 'Banksville': 338.0, 'Spring Garden': 547.0, 'California-Kirkbride': 744.0, 'Central Northside': 333.0, 'Brighton Heights': 529.0, 'Squirrel Hill North': 300.0, 'Strip District': 65.0, 'Fineview': 1215.0, 'Knoxville': 157.0, 'Homewood North': 570.0, 'Mt. Oliver': 159.0, 'North Oakland': 72.0, 'Bon Air': 75.0, 'Middle Hill': 497.0, 'Bloomfield': 180.0, 'Crafton Heights': 589.0, 'East Allegheny': 506.0, 'Arlington': 440.0, 'Chartiers City': 81.0, 'St. Clair': 53.0, 'Esplen': 48.0, 'Oakwood': 145.0, 'Lincoln Place': 260.0, 'Central Lawrenceville': 124.0, 'Glen Hazel': 108.0, 'Lincoln-Lemington-Belmar': 563.0, 'Larimer': 93.0, 'Crawford-Roberts': 197.0, 'East Carnegie': 52.0, 'South Side Flats': 95.0, 'Shadyside': 50.0, 'Bluff': 179.0, 'Allegheny Center': 78.0, 'Manchester': 8.0, 'Point Breeze North': 16.0, 'North Shore': 63.0, 'East Liberty': 18.0, 'Allegheny West': 23.0}\n"
     ]
    }
   ],
   "source": [
    "Stairframe = pd.read_csv(\"StairDataset.csv\")\n",
    "Stairframe.iloc[0:1]\n",
    "\n",
    "Stairframe = pd.read_csv(\"StairDataset.csv\", usecols=[\"length\", \"number_of_steps\",\"neighborhood\"])\n",
    "lengthdict = {}\n",
    "lengthdict1 = {}\n",
    "for index, row in Stairframe.iterrows():\n",
    "    length = row['number_of_steps']\n",
    "    name = row['neighborhood']\n",
    "    if name in lengthdict:\n",
    "        lengthdict[name] = lengthdict[name] + length\n",
    "    else:\n",
    "        lengthdict[name] = length\n",
    "otherlengthdict = {}\n",
    "for key, value in lengthdict.items():\n",
    "    if value > 0:\n",
    "        otherlengthdict[value] = key\n",
    "lengthdict = otherlengthdict\n",
    "mykeys = list(lengthdict.keys())\n",
    "mykeys.sort()\n",
    "flipped_dict = {value: key for key, value in lengthdict.items()}\n",
    "print(flipped_dict)"
   ]
  },
  {
   "cell_type": "code",
   "execution_count": 142,
   "id": "48bf6f45-2279-4ef9-87e8-4db5eb53966f",
   "metadata": {},
   "outputs": [
    {
     "name": "stdout",
     "output_type": "stream",
     "text": [
      "{nan: 1599.0, 'Upper Hill': 54.0, 'South Shore': 30.0, 'South Side Flats': 293.0, 'Lower Lawrenceville': 67.0, 'Lincoln-Lemington-Belmar': 204.0, 'Carrick': 311.0, 'Beechview': 160.0, 'Allentown': 134.0, 'Squirrel Hill North': 140.0, 'Troy Hill': 89.0, 'Homewood North': 193.0, 'Squirrel Hill South': 272.0, 'Perry North': 117.0, 'Bedford Dwellings': 51.0, 'Homewood South': 206.0, 'East Allegheny': 145.0, 'Crawford-Roberts': 118.0, 'Sheraden': 182.0, 'South Side Slopes': 111.0, 'Strip District': 79.0, 'East Hills': 164.0, 'Spring Hill-City View': 119.0, 'Greenfield': 128.0, 'North Shore': 82.0, 'Central Business District': 294.0, 'Manchester': 86.0, 'Overbrook': 65.0, 'Polish Hill': 43.0, 'Highland Park': 83.0, 'Brookline': 207.0, 'Marshall-Shadeland': 154.0, 'North Oakland': 137.0, 'South Oakland': 105.0, 'East Liberty': 224.0, 'Hazelwood': 261.0, 'Friendship': 37.0, 'West Oakland': 68.0, 'Terrace Village': 91.0, 'Brighton Heights': 162.0, 'Hays': 28.0, 'Knoxville': 200.0, 'Upper Lawrenceville': 60.0, 'Arlington': 56.0, 'Point Breeze': 76.0, 'Bloomfield': 186.0, 'Perry South': 172.0, 'Central Northside': 138.0, 'Bluff': 153.0, 'Mount Washington': 235.0, 'Point Breeze North': 55.0, 'Swisshelm Park': 21.0, 'Banksville': 64.0, 'Shadyside': 197.0, 'Regent Square': 13.0, 'Chateau': 47.0, 'Larimer': 131.0, 'Stanton Heights': 66.0, 'New Homestead': 26.0, 'Glen Hazel': 24.0, 'Lincoln Place': 73.0, 'Esplen': 27.0, 'Central Oakland': 102.0, 'Mt. Oliver': 16.0, 'Westwood': 32.0, 'Summer Hill': 25.0, 'Morningside': 39.0, 'Duquesne Heights': 45.0, 'Northview Heights': 71.0, 'Mount Oliver Borough': 10.0, 'St. Clair': 18.0, 'East Carnegie': 15.0, 'Oakwood': 17.0, 'Chartiers City': 22.0}\n"
     ]
    }
   ],
   "source": [
    "fire = pd.read_csv(\"fireincidents.csv\", index_col='_id')\n",
    "fireplot = fire['neighborhood'].value_counts().sort_values(ascending=False).head(20)\n",
    "lengthdict2 = {}\n",
    "for index, row in fire.iterrows():\n",
    "    num = 1\n",
    "    name = row['neighborhood']\n",
    "    if name in lengthdict2:\n",
    "        lengthdict2[name] = lengthdict2[name] + num\n",
    "    else:\n",
    "        lengthdict2[name] = length\n",
    "otherlengthdict = {}\n",
    "for key, value in lengthdict2.items():\n",
    "    if value > 0:\n",
    "        otherlengthdict[value] = key\n",
    "lengthdict2 = otherlengthdict\n",
    "mykeys = list(lengthdict2.keys())\n",
    "mykeys.sort()\n",
    "flipped_dict2 = {value: key for key, value in lengthdict2.items()}# Compute the average values for each neighborhood\n",
    "print(flipped_dict2)"
   ]
  },
  {
   "cell_type": "code",
   "execution_count": 156,
   "id": "c311082d-9067-467c-bc37-4ac4dea5b08d",
   "metadata": {},
   "outputs": [
    {
     "name": "stdout",
     "output_type": "stream",
     "text": [
      "{'Regent Square': 6.5, 'Mount Oliver Borough': 9.5, 'Swisshelm Park': 10.5, 'Allegheny West': 11.5, 'Summer Hill': 12.5, 'New Homestead': 13.0, 'Hays': 14.0, 'South Shore': 15.0, 'Westwood': 16.0, 'Friendship': 18.5, 'Morningside': 19.5, 'Duquesne Heights': 22.5, 'Chateau': 23.5, 'Overbrook': 32.5, 'Lower Lawrenceville': 33.5, 'East Carnegie': 33.5, 'Point Breeze North': 35.5, 'Northview Heights': 35.5, 'St. Clair': 35.5, 'Esplen': 37.5, 'Bon Air': 37.5, 'Point Breeze': 38.0, 'Allegheny Center': 39.0, 'Highland Park': 41.5, 'Troy Hill': 44.5, 'Terrace Village': 45.5, 'Manchester': 47.0, 'Chartiers City': 51.5, 'South Oakland': 52.5, 'South Side Slopes': 55.5, 'Perry North': 58.5, 'Spring Hill-City View': 59.5, 'Central Lawrenceville': 62.0, 'Greenfield': 64.0, 'Glen Hazel': 66.0, 'Allentown': 67.0, 'Strip District': 72.0, 'North Shore': 72.5, 'Marshall-Shadeland': 77.0, 'Beechview': 80.0, 'Oakwood': 81.0, 'East Hills': 82.0, 'Perry South': 86.0, 'Mt. Oliver': 87.5, 'Sheraden': 91.0, 'Homewood South': 103.0, 'Brookline': 103.5, 'North Oakland': 104.5, 'Larimer': 112.0, 'Mount Washington': 117.5, 'East Liberty': 121.0, 'Shadyside': 123.5, 'Hazelwood': 130.5, 'Squirrel Hill South': 136.0, 'Central Business District': 147.0, 'Carrick': 155.5, 'Crawford-Roberts': 157.5, 'Bluff': 166.0, 'Lincoln Place': 166.5, 'Bedford Dwellings': 171.0, 'Knoxville': 178.5, 'Bloomfield': 183.0, 'South Side Flats': 194.0, 'Banksville': 201.0, 'Squirrel Hill North': 220.0, 'West Oakland': 222.0, 'Central Oakland': 231.5, 'Central Northside': 235.5, 'Arlington': 248.0, 'Middle Hill': 248.5, 'Spring Garden': 273.5, 'Crafton Heights': 294.5, 'East Allegheny': 325.5, 'Brighton Heights': 345.5, 'California-Kirkbride': 372.0, 'Homewood North': 381.5, 'Lincoln-Lemington-Belmar': 383.5, 'Upper Hill': 429.0, 'Stanton Heights': 466.5, 'Upper Lawrenceville': 490.0, 'Polish Hill': 576.0, 'Fineview': 607.5, nan: 799.5}\n"
     ]
    }
   ],
   "source": [
    "# Compute the average values for each neighborhood\n",
    "averaged_values = {}\n",
    "for key in set(flipped_dict.keys()).union(flipped_dict2.keys()):\n",
    "    # Get values, defaulting to 0 if a key is missing\n",
    "    # Compute the average values for each neighborhood\n",
    "    fire_value = flipped_dict.get(key, 0)\n",
    "    stair_value = flipped_dict2.get(key, 0)\n",
    "    \n",
    "    # Calculate the average\n",
    "    averaged_values[key] = (fire_value + stair_value) / 2\n",
    "sorted_by_values = dict(sorted(averaged_values.items(), key=lambda item: item[1]))\n",
    "print(sorted_by_values)"
   ]
  }
 ],
 "metadata": {
  "kernelspec": {
   "display_name": "Python 3 (ipykernel)",
   "language": "python",
   "name": "python3"
  },
  "language_info": {
   "codemirror_mode": {
    "name": "ipython",
    "version": 3
   },
   "file_extension": ".py",
   "mimetype": "text/x-python",
   "name": "python",
   "nbconvert_exporter": "python",
   "pygments_lexer": "ipython3",
   "version": "3.12.4"
  }
 },
 "nbformat": 4,
 "nbformat_minor": 5
}
