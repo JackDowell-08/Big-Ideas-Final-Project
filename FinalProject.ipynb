{
 "cells": [
  {
   "cell_type": "code",
   "execution_count": 2,
   "id": "edaffdef-603f-4e62-bbb4-6e699941b6ae",
   "metadata": {},
   "outputs": [],
   "source": [
    "import pandas as pd\n",
    "\n",
    "fire = pd.read_csv(\"https://data.wprdc.org/datastore/dump/8d76ac6b-5ae8-4428-82a4-043130d17b02\")"
   ]
  },
  {
   "cell_type": "code",
   "execution_count": 3,
   "id": "a8ecaa91-abab-48b6-8b40-ce61d60d0466",
   "metadata": {},
   "outputs": [
    {
     "data": {
      "text/plain": [
       "0                NaN\n",
       "1                NaN\n",
       "2                NaN\n",
       "3           Fineview\n",
       "4          Fairywood\n",
       "            ...     \n",
       "10226    Perry South\n",
       "10227            NaN\n",
       "10228    Middle Hill\n",
       "10229      Beechview\n",
       "10230            NaN\n",
       "Name: neighborhood, Length: 10231, dtype: object"
      ]
     },
     "execution_count": 3,
     "metadata": {},
     "output_type": "execute_result"
    }
   ],
   "source": [
    "firecount = dict(neighborhood = fire"
   ]
  },
  {
   "cell_type": "code",
   "execution_count": null,
   "id": "615d7d60-4cf1-4e4a-9d80-e8a86a5482ef",
   "metadata": {},
   "outputs": [],
   "source": []
  }
 ],
 "metadata": {
  "kernelspec": {
   "display_name": "Python 3 (ipykernel)",
   "language": "python",
   "name": "python3"
  },
  "language_info": {
   "codemirror_mode": {
    "name": "ipython",
    "version": 3
   },
   "file_extension": ".py",
   "mimetype": "text/x-python",
   "name": "python",
   "nbconvert_exporter": "python",
   "pygments_lexer": "ipython3",
   "version": "3.12.4"
  }
 },
 "nbformat": 4,
 "nbformat_minor": 5
}
