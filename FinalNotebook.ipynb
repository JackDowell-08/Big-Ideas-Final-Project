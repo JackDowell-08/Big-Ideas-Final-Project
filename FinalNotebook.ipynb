{
 "cells": [
  {
   "cell_type": "markdown",
   "id": "16be9609-a895-4f27-9da0-be32a317907f",
   "metadata": {},
   "source": [
    "#### Introduction\n"
   ]
  },
  {
   "cell_type": "markdown",
   "id": "ef19c500-7314-44e4-8c9e-a5524ae63503",
   "metadata": {},
   "source": [
    "#### Our Metric"
   ]
  },
  {
   "cell_type": "markdown",
   "id": "9b57faad-01dd-45d4-b743-e6eba30184d3",
   "metadata": {},
   "source": [
    "#### The Best Neighborhood"
   ]
  },
  {
   "cell_type": "markdown",
   "id": "ce4e311c-088c-41b1-a5cb-dc5e3dd7a90d",
   "metadata": {},
   "source": [
    "#### Our Favorite Neighborhood\n",
    "**Jack** - My favorite neighborhood in Pittsburgh is Bloomfield because it has a bunch of cool stores. \n",
    "\n"
   ]
  }
 ],
 "metadata": {
  "kernelspec": {
   "display_name": "Python 3 (ipykernel)",
   "language": "python",
   "name": "python3"
  },
  "language_info": {
   "codemirror_mode": {
    "name": "ipython",
    "version": 3
   },
   "file_extension": ".py",
   "mimetype": "text/x-python",
   "name": "python",
   "nbconvert_exporter": "python",
   "pygments_lexer": "ipython3",
   "version": "3.12.4"
  }
 },
 "nbformat": 4,
 "nbformat_minor": 5
}
